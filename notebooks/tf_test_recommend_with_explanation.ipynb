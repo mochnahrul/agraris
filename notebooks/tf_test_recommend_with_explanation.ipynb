{
 "cells": [
  {
   "cell_type": "markdown",
   "metadata": {},
   "source": [
    "# Testing (Model Crop Recommendation)\n",
    "\n",
    "## Summary & How to Use\n",
    "\n",
    "To check the eligibility of this model by our own input, and to be able to manipulate the model, this is the right place for testing. To to this, I provided guideline to do the testing process.\n",
    "\n",
    "Below is the how to use this testing model step by step:\n",
    "\n",
    "1. Load the library\n",
    "2. Run the main function to load the model and print the MVP menu (still CLI based)\n",
    "3. Follow the instruction. Choose 1 to input the land condition.\n",
    "4. Follow the instruction for the 7 field input process. Below is the guide:\n",
    "   - Input the **Natrium** value\n",
    "   - Input the **Phosphorus** value\n",
    "   - Input the **Kalium** value\n",
    "   - Input the **Temperature** value\n",
    "   - Input the **Humidity** value\n",
    "   - Input the **pH** value\n",
    "   - Input the **Rainfall** value\n",
    "5. Get the recommendation value"
   ]
  },
  {
   "cell_type": "markdown",
   "metadata": {},
   "source": [
    "## How does it work?\n",
    "\n",
    "1. Get the user input from **show_input_form()**.\n",
    "2. Scale the user input, and cast it into the NumPy array using **normalization(user_input)**.\n",
    "3. Predict the user input using the model loaded from **load_model()**. The method used is **model.predict(np_user_input_scaled)**.\n",
    "4. Cast the label of the prediction using **cast_label(prediction)** to get the real readable result."
   ]
  },
  {
   "cell_type": "markdown",
   "metadata": {},
   "source": [
    "## Function Details\n",
    "\n",
    "To achieve this testing model, below are the functions needed to test the model, which will be explained down below:\n",
    "\n",
    "- load_model()\n",
    "- cast_label(prediction)\n",
    "- normalization(array_parameter)\n",
    "- show_input_form()\n",
    "- print_main_menu()"
   ]
  },
  {
   "cell_type": "markdown",
   "metadata": {},
   "source": [
    "### Load Libraries\n",
    "Load the libraries needed by using import. The libraries needed:\n",
    "\n",
    "- NumPy\n",
    "- Tensorflow\n",
    "- JSON\n",
    "- OS"
   ]
  },
  {
   "cell_type": "code",
   "execution_count": null,
   "metadata": {},
   "outputs": [],
   "source": [
    "#import all library\n",
    "\n",
    "import numpy as np\n",
    "import tensorflow as tf\n",
    "import json\n",
    "import os"
   ]
  },
  {
   "cell_type": "markdown",
   "metadata": {},
   "source": [
    "### Function load_model()\n",
    "\n",
    "This function is used to load the weight of the made model in the other notebook (the development notebook).\n",
    "\n",
    "To use the saved weight stored in a .h5 file (in this case the **best_crop_recommendation.h5** file), we can use this function to load the model using tensorflow module, and return it to be able to be used again for prediction."
   ]
  },
  {
   "cell_type": "code",
   "execution_count": null,
   "metadata": {},
   "outputs": [],
   "source": [
    "#function to load model by using tensorflow\n",
    "def load_model():\n",
    "    model = tf.keras.models.load_model('model/best_model_crop_recommendation.h5')\n",
    "    return model"
   ]
  },
  {
   "cell_type": "markdown",
   "metadata": {},
   "source": [
    "### Function cast_label(prediction)\n",
    "\n",
    "This function is used to cast the predicted result from the categorical type (array consisted of 22 numbers) to the word (rice, watermelon, etc).\n",
    "\n",
    "To use the this function, we need a .json file (in this case the **labelEncoder_dict.json** file from the key-value pair). The parameter needed in this function is the prediction from the model in form of array. An iteration in the labels available is needed to get the matched value to get the key, and return it as the final result."
   ]
  },
  {
   "cell_type": "code",
   "execution_count": null,
   "metadata": {},
   "outputs": [],
   "source": [
    "#function to cast numeric label back to wordish prediction\n",
    "def cast_label(prediction):\n",
    "    result = np.argmax(prediction)\n",
    "\n",
    "    with open('dataset/labelEncoder_dict.json', 'r') as file:\n",
    "        labels = json.load(file)\n",
    "\n",
    "    for key, value in labels.items():\n",
    "        if str(result) == value:\n",
    "            return key"
   ]
  },
  {
   "cell_type": "markdown",
   "metadata": {},
   "source": [
    "### Function normalization(array_parameter)\n",
    "\n",
    "This function is used to normalize the list of user input (consisting of 7 input values). The steps of this function are:\n",
    "\n",
    "1. Define a minmax value for each column in order\n",
    "2. Follow the equation (X - Xmin) / (Xmax - Xmin)\n",
    "3. Apply the scaled scaler to the test array\n",
    "4. Cast the list into a NumPy based array\n",
    "5. Return the casted array\n",
    "\n",
    "To use the this function, load the dataset first. After that, define minmax values for each column, and apply the equation to the dataset. After the scaling process, fit it to the testing list. After it is scaled, cast the list to a NumPy based array. Lastly, return the casted array as the output of the process."
   ]
  },
  {
   "cell_type": "code",
   "execution_count": null,
   "metadata": {},
   "outputs": [],
   "source": [
    "#normalize the input range\n",
    "def normalization(array_parameter):\n",
    "    #value is retrieved from the df.describe()\n",
    "    min_val = [0, 5 ,5, 8.825675, 14.258040, 3.504752, 20.211267]\n",
    "    max_val = [140, 145, 205, 43.675493, 99.981876, 9.935091, 298.560117]\n",
    "\n",
    "    for i in range(len(array_parameter[0])):\n",
    "        array_parameter[0][i] = (array_parameter[0][i] - min_val[i]) / (max_val[i] - min_val[i])\n",
    "\n",
    "    np_scaled = np.array(array_parameter)\n",
    "    return np_scaled"
   ]
  },
  {
   "cell_type": "markdown",
   "metadata": {},
   "source": [
    "### Function show_input_form()\n",
    "\n",
    "As the name of the function, this function is a simple-CLI-input form. This form is made to facilitate the user to input their land parameter as the feature for the model.\n",
    "\n",
    "The requirement for the input (otherwise, it will pop up an error or re-input): \n",
    "\n",
    "- Input **MUST BE** a float (or integer)\n",
    "- Input **MUST BE** greater than 0\n",
    "\n",
    "After user inputs the feature, it will be parsed into a 2D array, and be fit in the process."
   ]
  },
  {
   "cell_type": "code",
   "execution_count": null,
   "metadata": {},
   "outputs": [],
   "source": [
    "#show input form\n",
    "def show_input_form():\n",
    "    n_val = -100\n",
    "    p_val = -100\n",
    "    k_val = -100\n",
    "    temp_val = -100\n",
    "    humid_val = -100\n",
    "    ph_val = -100\n",
    "    rain_val = -100\n",
    "\n",
    "    while ( n_val < 0 ):\n",
    "        n_val = float(input(\"Input N value\\t\\t: \"))\n",
    "\n",
    "    while ( p_val < 0 ):\n",
    "        p_val = float(input(\"Input P value\\t\\t: \"))\n",
    "\n",
    "    while ( k_val < 0 ):\n",
    "        k_val = float(input(\"Input K value\\t\\t: \"))\n",
    "\n",
    "    while ( temp_val < 0 ):\n",
    "        temp_val = float(input(\"Input Temperature\\t: \"))\n",
    "    \n",
    "    while ( humid_val < 0 ):\n",
    "        humid_val = float(input(\"Input Humidity\\t\\t: \"))\n",
    "    \n",
    "    while ( ph_val < 0 ):\n",
    "        ph_val = float(input(\"Input pH value\\t\\t: \"))\n",
    "\n",
    "    while ( rain_val < 0 ):\n",
    "        rain_val = float(input(\"Input rainfall\\t\\t: \"))\n",
    "\n",
    "    input_list = [[n_val, p_val, k_val, temp_val, humid_val, ph_val, rain_val]]\n",
    "\n",
    "    return input_list"
   ]
  },
  {
   "cell_type": "markdown",
   "metadata": {},
   "source": [
    "### Function print_main_menu()\n",
    "\n",
    "As the name of the function, this function is a simple-CLI-input form. This form is made to facilitate the user to input their land parameter as the feature for the model. This is the main menu which is consisted of input, or stop the program.\n",
    "\n",
    "The requirement for the input (otherwise, it will pop up an error or re-input): \n",
    "\n",
    "- Input **MUST BE** a float (or integer)\n",
    "- Input **MUST BE** greater than 0 and **LESS THAN** 3"
   ]
  },
  {
   "cell_type": "code",
   "execution_count": null,
   "metadata": {},
   "outputs": [],
   "source": [
    "#show main menu & menu list\n",
    "def print_main_menu():\n",
    "    choice = -1\n",
    "\n",
    "    print(\"=\"*30)\n",
    "    print(\"Agraris Model Menu\")\n",
    "    print(\"=\"*30, end=\"\\n\\n\")\n",
    "\n",
    "    print(\"1. Look for recommendation\")\n",
    "    print(\"2. Stop\\n\")\n",
    "\n",
    "    while ( choice >= 3 or choice <= 0 ):\n",
    "        choice = int(input(\"Input choice (1-2): \"))\n",
    "\n",
    "    if choice == 1:\n",
    "        user_input = show_input_form()\n",
    "        np_user_input_scaled = normalization(user_input)\n",
    "        prediction = model.predict(np_user_input_scaled)\n",
    "        result = cast_label(prediction)\n",
    "        print(\"Best crop for you is: {}\".format(result))\n",
    "        choice = input(\"\\nPress enter to continue...\")\n",
    "\n",
    "    elif choice == 2:\n",
    "        quit()\n",
    "\n",
    "    if os.name == 'posix':\n",
    "      _ = os.system('clear')\n",
    "    else:\n",
    "      _ = os.system('cls')\n",
    "      \n",
    "    print_main_menu()"
   ]
  },
  {
   "cell_type": "markdown",
   "metadata": {},
   "source": [
    "### Start the Program\n",
    "1. Load the model\n",
    "2. Print the main menu"
   ]
  },
  {
   "cell_type": "code",
   "execution_count": null,
   "metadata": {},
   "outputs": [],
   "source": [
    "#LINK STARTTT\n",
    "if __name__ == \"__main__\":\n",
    "    model = load_model()\n",
    "    print_main_menu()"
   ]
  },
  {
   "cell_type": "code",
   "execution_count": null,
   "metadata": {},
   "outputs": [],
   "source": [
    "# TEST DATA -> should predict \"rice\"\n",
    "# test_pred = [[90,42,43,20.87974371,82.00274423,6.502985292000001,202.9355362]]"
   ]
  }
 ],
 "metadata": {
  "interpreter": {
   "hash": "75fe66cc5c562c8b7ab53726264ba1dcd972787fdbff729afe5074f433741fc8"
  },
  "kernelspec": {
   "display_name": "Python 3.9.1 64-bit",
   "language": "python",
   "name": "python3"
  },
  "language_info": {
   "codemirror_mode": {
    "name": "ipython",
    "version": 3
   },
   "file_extension": ".py",
   "mimetype": "text/x-python",
   "name": "python",
   "nbconvert_exporter": "python",
   "pygments_lexer": "ipython3",
   "version": "3.9.1"
  },
  "orig_nbformat": 4
 },
 "nbformat": 4,
 "nbformat_minor": 2
}
