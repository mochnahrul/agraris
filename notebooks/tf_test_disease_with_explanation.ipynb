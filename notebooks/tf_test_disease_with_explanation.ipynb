{
 "cells": [
  {
   "cell_type": "markdown",
   "metadata": {},
   "source": [
    "# Testing (Model Crop Recommendation)\n",
    "\n",
    "## Summary & How to Use\n",
    "\n",
    "To check the eligibility of this model by our own input, and to be able to manipulate the model, this is the right place for testing. To to this, I provided guideline to do the testing process.\n",
    "\n",
    "Below is the how to use this testing model step by step:\n",
    "\n",
    "1. Load the library\n",
    "2. Run the main function to load the model\n",
    "3. Follow the instruction\n",
    "4. Input the image link (must be a link to the image!)\n",
    "5. Get the classification result"
   ]
  },
  {
   "cell_type": "markdown",
   "metadata": {},
   "source": [
    "## How does it work?\n",
    "\n",
    "1. Get the user input\n",
    "2. Process the user input link, process the image\n",
    "3. Cast the label\n",
    "4. Give the user the result"
   ]
  },
  {
   "cell_type": "markdown",
   "metadata": {},
   "source": [
    "## Function Details\n",
    "\n",
    "To achieve this testing model, below are the functions needed to test the model, which will be explained down below:\n",
    "\n",
    "- load_model()\n",
    "- predict_image(path)\n",
    "- cast_label(result)"
   ]
  },
  {
   "cell_type": "markdown",
   "metadata": {},
   "source": [
    "### Load Libraries\n",
    "Load the libraries needed by using import. The libraries needed:\n",
    "\n",
    "- NumPy\n",
    "- Tensorflow\n",
    "- JSON\n",
    "- OS"
   ]
  },
  {
   "cell_type": "code",
   "execution_count": 1,
   "metadata": {},
   "outputs": [],
   "source": [
    "#import all library\n",
    "\n",
    "import numpy as np\n",
    "import tensorflow as tf\n",
    "import json\n",
    "import os"
   ]
  },
  {
   "cell_type": "markdown",
   "metadata": {},
   "source": [
    "### Function load_model()\n",
    "\n",
    "This function is used to load the weight of the made model in the other notebook (the development notebook).\n",
    "\n",
    "To use the saved weight stored in a .h5 file (in this case the **best_crop_recommendation.h5** file), we can use this function to load the model using tensorflow module, and return it to be able to be used again for prediction."
   ]
  },
  {
   "cell_type": "code",
   "execution_count": 2,
   "metadata": {},
   "outputs": [],
   "source": [
    "#function to load model by using tensorflow\n",
    "def load_model():\n",
    "    model = tf.keras.models.load_model('model/best_plant_disease.h5')\n",
    "    return model"
   ]
  },
  {
   "cell_type": "markdown",
   "metadata": {},
   "source": [
    "### Function predict_image(path)\n",
    "\n",
    "This function is used to prepare the image for classification, and to predict the image using the loaded model. After doing so, the result is derived into a single number of the maximum prediction score, and return it as the prediction result."
   ]
  },
  {
   "cell_type": "code",
   "execution_count": 3,
   "metadata": {},
   "outputs": [],
   "source": [
    "#function to predict image\n",
    "def predict_image(path):\n",
    "    img = tf.keras.utils.load_img(\n",
    "            path, target_size=(150, 150)\n",
    "          )\n",
    "\n",
    "    img_array = tf.keras.utils.img_to_array(img)\n",
    "    img_array = tf.expand_dims(img_array, 0) # Create a batch\n",
    "\n",
    "    predictions = model.predict(img_array)\n",
    "    score = tf.nn.softmax(predictions[0])\n",
    "    \n",
    "    return np.argmax(predictions)"
   ]
  },
  {
   "cell_type": "markdown",
   "metadata": {},
   "source": [
    "### Function cast_label(prediction)\n",
    "\n",
    "This function is used to cast the predicted result from the categorical type (array consisted of 38 numbers) to the word (Healthy, Powdery Mildew, etc).\n",
    "\n",
    "To use the this function, we need a .json file (in this case the **labelEncoder_dict.json** file from the key-value pair). The parameter needed in this function is the prediction from the model in form of array. An iteration in the labels available is needed to get the matched value to get the key matched, and return the value as the final result."
   ]
  },
  {
   "cell_type": "code",
   "execution_count": 4,
   "metadata": {},
   "outputs": [],
   "source": [
    "#function to cast numeric label back to wordish prediction\n",
    "def cast_label(result):\n",
    "\n",
    "    with open('dataset/labelEncoder_dict.json', 'r') as file:\n",
    "        labels = json.load(file)\n",
    "\n",
    "    for key, value in labels.items():\n",
    "        if str(result) == key:\n",
    "            return value"
   ]
  },
  {
   "cell_type": "markdown",
   "metadata": {},
   "source": [
    "### Function main\n",
    "\n",
    "As the name of the function, this function is a simple-CLI-input form. This form is made to facilitate the user to input their leaf image directory path as the input for the model.\n",
    "\n",
    "The requirement for the input (otherwise, it will pop up an error): \n",
    "\n",
    "- Input **MUST BE** link to directory, or relative path for the file. Example: C:\\Users\\xcessive\\Documents\\PLANT_DISEASE\\dataset\\test.jpg"
   ]
  },
  {
   "cell_type": "markdown",
   "metadata": {},
   "source": [
    "### Start the Program\n",
    "1. Load the model\n",
    "2. Print the main menu"
   ]
  },
  {
   "cell_type": "code",
   "execution_count": 14,
   "metadata": {},
   "outputs": [
    {
     "name": "stdout",
     "output_type": "stream",
     "text": [
      "Your plant's disease is: Northern Leaf Blight\n"
     ]
    }
   ],
   "source": [
    "#LINK STARTTT\n",
    "if __name__ == \"__main__\":\n",
    "    model = load_model()\n",
    "    absolute_path = input(\"Input path of the image: \")\n",
    "    result = predict_image(absolute_path)\n",
    "    last_result = cast_label(result)\n",
    "    print(\"Your plant's disease is: {}\".format(last_result))\n",
    "    "
   ]
  }
 ],
 "metadata": {
  "interpreter": {
   "hash": "75fe66cc5c562c8b7ab53726264ba1dcd972787fdbff729afe5074f433741fc8"
  },
  "kernelspec": {
   "display_name": "Python 3.9.1 64-bit",
   "language": "python",
   "name": "python3"
  },
  "language_info": {
   "codemirror_mode": {
    "name": "ipython",
    "version": 3
   },
   "file_extension": ".py",
   "mimetype": "text/x-python",
   "name": "python",
   "nbconvert_exporter": "python",
   "pygments_lexer": "ipython3",
   "version": "3.9.1"
  },
  "orig_nbformat": 4
 },
 "nbformat": 4,
 "nbformat_minor": 2
}
